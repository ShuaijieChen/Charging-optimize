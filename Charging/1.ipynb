{
 "cells": [
  {
   "cell_type": "code",
   "execution_count": 2,
   "metadata": {},
   "outputs": [],
   "source": [
    "import random\n",
    "import numpy as np"
   ]
  },
  {
   "cell_type": "code",
   "execution_count": 3,
   "metadata": {},
   "outputs": [],
   "source": [
    "class Vehicle:\n",
    "    # This class is used to represent vehicles\n",
    "    \"\"\"\n",
    "        :param battery_capacity(KWh): double\n",
    "            description: Maximum capacity of vehicle battery\n",
    "        :param start_time: datetime\n",
    "            description: The time the owner began using the vehicle\n",
    "        :param end_time: datetime\n",
    "            description: The time when the vehicle owner finishes using the vehicle\n",
    "        :param parking_lot: object\n",
    "            description: The parking lot where the vehicle is parked\n",
    "        :param battery_level(KWh): double\n",
    "            description: The current available electricity consumption of the vehicle\n",
    "        :param charging_power(KW): int\n",
    "            description: The charge and discharge power of the vehicle\n",
    "    \"\"\"\n",
    "    def __init__(self, start_time, end_time, parking_lot=None, battery_capacity=77.0, battery_level=77.0, charging_power=20):\n",
    "        self.start_time = start_time\n",
    "        self.end_time = end_time\n",
    "        self.battery_capacity = battery_capacity\n",
    "        self.battery_level = battery_level\n",
    "        self.charging_power = charging_power\n",
    "\n",
    "    #充电一小时\n",
    "    def charge(self, price):\n",
    "        temp = self.battery_level\n",
    "        if self.battery_level <= self.battery_capacity - 20:\n",
    "            self.battery_level += 20\n",
    "        else:\n",
    "            self.battery_level = self.battery_capacity\n",
    "        return 0 - (self.battery_level - temp) * price\n",
    "    \n",
    "    #放电一小时\n",
    "    def discharge(self,price):\n",
    "        temp = self.battery_level\n",
    "        if self.battery_level >= 20:\n",
    "            self.battery_level -= 20\n",
    "        else:\n",
    "            self.battery_level = 0\n",
    "        return 0 - (self.battery_level - temp) * price\n",
    "    \n",
    "    def __str__(self):\n",
    "        return f'Vehicle: {self.battery_capacity}, {self.start_time}, {self.end_time}'\n",
    "    "
   ]
  },
  {
   "cell_type": "code",
   "execution_count": 4,
   "metadata": {},
   "outputs": [],
   "source": [
    "from datetime import datetime, timedelta\n",
    "\n",
    "def generate_random_time(start_hour, end_hour):\n",
    "    hour = random.randint(start_hour, end_hour)\n",
    "    minute = random.randint(0, 59)\n",
    "    second = random.randint(0, 59)\n",
    "    return datetime.now().replace(hour=hour, minute=minute, second=second)\n",
    "\n",
    "# # 生成第一个时间，范围在七点到九点\n",
    "# start_time = generate_random_time(7, 9)\n",
    "\n",
    "# # 生成第二个时间，范围在四点到六点\n",
    "# end_time = generate_random_time(16, 18)\n",
    "\n",
    "# print(\"随机生成的第一个时间:\", start_time.strftime('%H:%M:%S'))\n",
    "# print(\"随机生成的第二个时间:\", end_time.strftime('%H:%M:%S'))\n"
   ]
  },
  {
   "cell_type": "code",
   "execution_count": 5,
   "metadata": {},
   "outputs": [],
   "source": [
    "#根据生成的到达时间和离开时间计算出实际情况下的开始充电和停止充电时间(整点)\n",
    "def calculate_real_time(start_time, end_time):\n",
    "    real_start_time = (start_time + timedelta(hours = 1))\n",
    "    real_start_time = real_start_time.replace(minute=0, second=0)\n",
    "    real_end_time = (end_time - timedelta(hours = 0))\n",
    "    real_end_time = real_end_time.replace(minute=0, second=0)\n",
    "\n",
    "    return real_start_time, real_end_time\n",
    "    "
   ]
  },
  {
   "cell_type": "code",
   "execution_count": 6,
   "metadata": {},
   "outputs": [],
   "source": [
    "import pandas as pd\n",
    "\n",
    "#读取一天（即24小时）的电价\n",
    "def read_e_price(start, end):\n",
    "    df_prices = pd.read_csv(\"GR-data-11-20.csv\", header=None, names=[\"DateTime\", \"ElectricityPrice\"])\n",
    "    one_day_prices_list = df_prices[\"ElectricityPrice\"][start:end].tolist()\n",
    "\n",
    "    return one_day_prices_list\n"
   ]
  },
  {
   "cell_type": "code",
   "execution_count": 7,
   "metadata": {},
   "outputs": [
    {
     "name": "stdout",
     "output_type": "stream",
     "text": [
      "Total_Reward 0.47\n"
     ]
    }
   ],
   "source": [
    "#初始化读取电价的索引\n",
    "start_index = 0\n",
    "end_index = 24\n",
    "\n",
    "#初始化奖励\n",
    "reward = 0\n",
    "\n",
    "# 生成上班时间，范围在七点到九点\n",
    "start_time = generate_random_time(7, 9)\n",
    "# 生成下班时间，范围在四点到六点\n",
    "end_time = generate_random_time(16, 18)\n",
    "#计算实际开始充电和结束充电的时间（整点）\n",
    "real_start_time, real_end_time = calculate_real_time(start_time, end_time)\n",
    "\n",
    "#初始化环境\n",
    "env = Vehicle(start_time, end_time)\n",
    "env.__str__()\n",
    "\n",
    "for i in range(7):\n",
    "    #读入一天的电价，并更新start_index和end_index\n",
    "    one_day_prices_list = read_e_price(start_index, end_index)\n",
    "    start_index += 24\n",
    "    end_index += 24\n",
    "\n",
    "    current_time = real_start_time\n",
    "\n",
    "    # 模拟一天内时间的变化，每次增加60分钟\n",
    "    for _ in range(real_end_time.hour - real_start_time.hour):  \n",
    "\n",
    "        # 将时间增加60分钟\n",
    "        current_time += timedelta(minutes=60)\n",
    "\n",
    "        random_number = random.randint(0, 1)\n",
    "        if random_number == 1:\n",
    "            reward += env.charge(one_day_prices_list[current_time.hour] / 1000)\n",
    "        else:\n",
    "            reward += env.discharge(one_day_prices_list[current_time.hour] / 1000)\n",
    "\n",
    "        if current_time.hour == real_start_time.hour or current_time.hour == real_end_time.hour:\n",
    "            if env.battery_level < 10:\n",
    "                # reward -= 500\n",
    "                print(\"SOC is less than 10%: \", env.battery_level)\n",
    "\n",
    "    # 更新第二天上下班时间\n",
    "    start_time = generate_random_time(7, 9)\n",
    "    end_time = generate_random_time(16, 18)\n",
    "    env.start_time = start_time\n",
    "    env.end_time = end_time\n",
    "\n",
    "    #计算实际开始充电和结束充电的时间（整点）\n",
    "    real_start_time, real_end_time = calculate_real_time(env.start_time, env.end_time)\n",
    "\n",
    "print(\"Total_Reward\", round(reward,2))\n",
    "    "
   ]
  }
 ],
 "metadata": {
  "kernelspec": {
   "display_name": "ddpg",
   "language": "python",
   "name": "python3"
  },
  "language_info": {
   "codemirror_mode": {
    "name": "ipython",
    "version": 3
   },
   "file_extension": ".py",
   "mimetype": "text/x-python",
   "name": "python",
   "nbconvert_exporter": "python",
   "pygments_lexer": "ipython3",
   "version": "3.8.10"
  }
 },
 "nbformat": 4,
 "nbformat_minor": 2
}
